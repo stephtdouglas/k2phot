{
 "cells": [
  {
   "cell_type": "code",
   "execution_count": 3,
   "metadata": {
    "collapsed": false
   },
   "outputs": [],
   "source": [
    "import logging, os\n",
    "import random\n",
    "\n",
    "import matplotlib.pyplot as plt\n",
    "%matplotlib inline\n",
    "import numpy as np\n",
    "from mpl_toolkits.axes_grid1.inset_locator import zoomed_inset_axes\n",
    "from mpl_toolkits.axes_grid1.inset_locator import mark_inset\n",
    "from matplotlib import colors\n",
    "import astropy.io.ascii as at\n",
    "from astropy.io import fits"
   ]
  },
  {
   "cell_type": "code",
   "execution_count": 4,
   "metadata": {
    "collapsed": true
   },
   "outputs": [],
   "source": [
    "def chips(filename):\n",
    "\n",
    "    \n",
    "    hdu = fits.open(filename)\n",
    "    header = hdu[0].header\n",
    "    kpmag = header[\"KEPMAG\"]\n",
    "    \n",
    "    if (kpmag>=9.0):\n",
    "        module = header[\"MODULE\"]\n",
    "        output = header[\"OUTPUT\"]\n",
    "    else:\n",
    "        module, output = -9,-9\n",
    "    \n",
    "    return module, output, kpmag"
   ]
  },
  {
   "cell_type": "code",
   "execution_count": 5,
   "metadata": {
    "collapsed": false
   },
   "outputs": [
    {
     "data": {
      "text/plain": [
       "u'/home/stephanie/code/python/k2phot'"
      ]
     },
     "execution_count": 5,
     "metadata": {},
     "output_type": "execute_result"
    }
   ],
   "source": [
    "pwd"
   ]
  },
  {
   "cell_type": "code",
   "execution_count": 6,
   "metadata": {
    "collapsed": false
   },
   "outputs": [],
   "source": [
    "tpfs = at.read(\"c4_tpfs_box.csv\")"
   ]
  },
  {
   "cell_type": "code",
   "execution_count": 7,
   "metadata": {
    "collapsed": false,
    "scrolled": false
   },
   "outputs": [],
   "source": [
    "modules = np.ones(len(tpfs),int)*-9\n",
    "outputs = np.ones(len(tpfs),int)*-9\n",
    "kpmags = np.ones(len(tpfs),float)*-9\n",
    "\n",
    "for i,fname in enumerate(tpfs[\"filename\"]):\n",
    "    fname = fname.replace(\"Dropbox\",\"data\")\n",
    "    if os.path.exists(fname)==True:\n",
    "        modules[i], outputs[i], kpmags[i] = chips(fname)"
   ]
  },
  {
   "cell_type": "code",
   "execution_count": 8,
   "metadata": {
    "collapsed": false
   },
   "outputs": [],
   "source": [
    "keep = np.where(modules>=0)[0]\n",
    "modules = modules[keep]\n",
    "outputs = outputs[keep]\n",
    "kpmags = kpmags[keep]\n",
    "\n",
    "keep2 = np.argsort(modules)\n",
    "modules = modules[keep2]\n",
    "outputs = outputs[keep2]\n",
    "kpmags = kpmags[keep2]"
   ]
  },
  {
   "cell_type": "code",
   "execution_count": 9,
   "metadata": {
    "collapsed": false
   },
   "outputs": [],
   "source": [
    "pairs = zip(modules,outputs)"
   ]
  },
  {
   "cell_type": "code",
   "execution_count": 10,
   "metadata": {
    "collapsed": true
   },
   "outputs": [],
   "source": [
    "unique_pairs = [(2,1),(2,2),(2,3),(2,4),\n",
    "                (4,1),(4,2),(4,3),(4,4),\n",
    "                (6,1),(6,2),(6,3),(6,4),\n",
    "                (8,1),(8,2),(8,3),\n",
    "                (9,2),(9,3),(10,3),(10,4),\n",
    "                (11,1),(11,3),(12,1),(12,2),\n",
    "                (13,2),(13,4),(14,1),\n",
    "                (15,1),(15,4),(16,1),(16,2),\n",
    "                (17,1),(18,1),(18,3),(18,4),\n",
    "                (19,1),(20,2)]"
   ]
  },
  {
   "cell_type": "code",
   "execution_count": 11,
   "metadata": {
    "collapsed": false
   },
   "outputs": [
    {
     "data": {
      "text/plain": [
       "36"
      ]
     },
     "execution_count": 11,
     "metadata": {},
     "output_type": "execute_result"
    }
   ],
   "source": [
    "len(unique_pairs)"
   ]
  },
  {
   "cell_type": "code",
   "execution_count": 12,
   "metadata": {
    "collapsed": false
   },
   "outputs": [],
   "source": [
    "all_file = \"k2_c4_kp9-16_stars.csv\"\n",
    "all_k2 = at.read(all_file,data_start=2)"
   ]
  },
  {
   "cell_type": "code",
   "execution_count": 13,
   "metadata": {
    "collapsed": false
   },
   "outputs": [
    {
     "name": "stdout",
     "output_type": "stream",
     "text": [
      "[('K2 ID', '<i8'), ('Campaign', '<i8'), ('Object type', 'S4'), ('RA (J2000)', 'S12'), ('Dec (J2000)', 'S12'), ('Target Type', 'S2'), ('Investigation ID', 'S111'), ('KEP Mag', '<f8'), ('Kep Flag', 'S3'), ('Module', '<i8'), ('Output', '<i8'), ('Channel', '<i8')]\n"
     ]
    }
   ],
   "source": [
    "print(all_k2.dtype)"
   ]
  },
  {
   "cell_type": "code",
   "execution_count": 14,
   "metadata": {
    "collapsed": false
   },
   "outputs": [
    {
     "name": "stdout",
     "output_type": "stream",
     "text": [
      "(2, 1, 152, 100)\n",
      "(2, 2, 176, 100)\n",
      "(2, 3, 150, 100)\n",
      "(2, 4, 170, 100)\n",
      "(4, 1, 169, 100)\n",
      "(4, 2, 170, 100)\n",
      "(4, 3, 140, 100)\n",
      "(4, 4, 184, 100)\n",
      "(6, 1, 117, 100)\n",
      "(6, 2, 133, 100)\n",
      "(6, 3, 159, 100)\n",
      "(6, 4, 132, 100)\n",
      "(8, 1, 154, 100)\n",
      "(8, 2, 139, 100)\n",
      "(8, 3, 162, 100)\n",
      "(9, 2, 154, 100)\n",
      "(9, 3, 144, 100)\n",
      "(10, 3, 242, 100)\n",
      "(10, 4, 196, 100)\n",
      "(11, 1, 129, 100)\n",
      "(11, 3, 127, 100)\n",
      "(12, 1, 153, 100)\n",
      "(12, 2, 169, 100)\n",
      "(13, 2, 173, 100)\n",
      "(13, 4, 138, 100)\n",
      "(14, 1, 163, 100)\n",
      "(15, 1, 318, 100)\n",
      "(15, 4, 338, 100)\n",
      "(16, 1, 134, 100)\n",
      "(16, 2, 144, 100)\n",
      "(17, 1, 111, 100)\n",
      "(18, 1, 145, 100)\n",
      "(18, 3, 132, 100)\n",
      "(18, 4, 131, 100)\n",
      "(19, 1, 147, 100)\n",
      "(20, 2, 171, 100)\n"
     ]
    }
   ],
   "source": [
    "n_per_chip = 100\n",
    "test_epics = np.ones(len(unique_pairs)*n_per_chip,\"int32\")*-9999\n",
    "test_mods = np.ones(len(unique_pairs)*n_per_chip,\"int\")*-9\n",
    "test_outs = np.ones(len(unique_pairs)*n_per_chip,\"int\")*-9\n",
    "test_kps = np.ones(len(unique_pairs)*n_per_chip,\"float\")*-99.0\n",
    "for i,p in enumerate(unique_pairs):\n",
    "    mod,out = p\n",
    "    this_chip = np.where((all_k2[\"Module\"]==mod) &\n",
    "                         (all_k2[\"Output\"]==out))[0]\n",
    "    \n",
    "    random_on_this_chip = random.sample(this_chip,n_per_chip)\n",
    "    \n",
    "    print(mod,out,len(this_chip),len(np.unique(random_on_this_chip)))\n",
    "    test_epics[i*100:(i+1)*100] = all_k2[\"K2 ID\"][random_on_this_chip]\n",
    "    test_mods[i*100:(i+1)*100] = mod\n",
    "    test_outs[i*100:(i+1)*100] = out\n",
    "    test_kps[i*100:(i+1)*100] = all_k2[\"KEP Mag\"][random_on_this_chip]"
   ]
  },
  {
   "cell_type": "code",
   "execution_count": 15,
   "metadata": {
    "collapsed": false
   },
   "outputs": [
    {
     "name": "stdout",
     "output_type": "stream",
     "text": [
      "(3600, 3600)\n",
      "0\n"
     ]
    }
   ],
   "source": [
    "print(len(test_epics),len(np.unique(test_epics)))\n",
    "print(len(np.where(test_epics<0)[0]))"
   ]
  },
  {
   "cell_type": "code",
   "execution_count": 16,
   "metadata": {
    "collapsed": false
   },
   "outputs": [],
   "source": [
    "f = open(\"k2_c4_kp9-16_stars_tpf_download.lst\",\"w\")\n",
    "g = open(\"k2_c4_kp9-16_stars_tpf_download01.sh\",\"w\")\n",
    "\n",
    "ep_filenames = np.empty(len(test_epics),\"S50\")\n",
    "ep_filenames[:] = \"\"\n",
    "\n",
    "for i, epic in enumerate(test_epics):\n",
    "    epic = str(epic)\n",
    "    ep0 = epic[:4]\n",
    "    ep1 = epic[4:6]\n",
    "    f.write(\"http://archive.stsci.edu/pub/k2/target_pixel_files/c4/\")\n",
    "    tpf_file = \"{0}00000/{1}000/ktwo{2}-c04_lpd-targ.fits.gz\".format(ep0,ep1,epic)\n",
    "    ep_filenames[i] = tpf_file\n",
    "    f.write(\"{0}\\n\".format(tpf_file))\n",
    "    if i<100:\n",
    "        g.write(\"wget -q http://archive.stsci.edu/pub/k2/target_pixel_files/c4/\")\n",
    "        g.write(\"{0}\\n\".format(tpf_file))\n",
    "\n",
    "f.close()"
   ]
  },
  {
   "cell_type": "code",
   "execution_count": 17,
   "metadata": {
    "collapsed": false
   },
   "outputs": [],
   "source": [
    "data = {\"filename\":ep_filenames, \"EPIC\":test_epics, \"Module\":test_mods, \"Output\":test_outs, \"Kp\":test_kps}\n",
    "at.write(data,\"k2_c4_kp9-16_stars_tpfs.csv\",names = [\"filename\",\"EPIC\",\"Module\",\"Output\",\"Kp\"])"
   ]
  },
  {
   "cell_type": "code",
   "execution_count": null,
   "metadata": {
    "collapsed": true
   },
   "outputs": [],
   "source": []
  }
 ],
 "metadata": {
  "kernelspec": {
   "display_name": "Python 2",
   "language": "python",
   "name": "python2"
  },
  "language_info": {
   "codemirror_mode": {
    "name": "ipython",
    "version": 2
   },
   "file_extension": ".py",
   "mimetype": "text/x-python",
   "name": "python",
   "nbconvert_exporter": "python",
   "pygments_lexer": "ipython2",
   "version": "2.7.9"
  }
 },
 "nbformat": 4,
 "nbformat_minor": 0
}
