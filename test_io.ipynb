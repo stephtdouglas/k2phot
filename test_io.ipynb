{
 "cells": [
  {
   "cell_type": "code",
   "execution_count": 1,
   "metadata": {
    "collapsed": true
   },
   "outputs": [],
   "source": [
    "import logging, itertools\n",
    "\n",
    "import numpy as np\n",
    "import matplotlib.pyplot as plt\n",
    "%matplotlib inline\n",
    "from matplotlib import colors\n",
    "from astropy.io import fits\n",
    "from astropy.wcs import WCS\n",
    "from scipy.linalg import cho_solve, cho_factor\n",
    "\n",
    "logging.basicConfig(level=logging.DEBUG)"
   ]
  },
  {
   "cell_type": "code",
   "execution_count": 2,
   "metadata": {
    "collapsed": true
   },
   "outputs": [],
   "source": [
    "filename = \"tpf/ktwo202521690-c02_lpd-targ.fits\""
   ]
  },
  {
   "cell_type": "code",
   "execution_count": 52,
   "metadata": {
    "collapsed": true
   },
   "outputs": [],
   "source": [
    "hdu = fits.open(filename,mode='readonly',memmap=True)\n",
    "\n",
    "#Then take a look at instr[0].header (header info) and instr[1].data (pixel values)...\n",
    "\n",
    "table = hdu[1].data[:]\n",
    "times = table['TIME']\n",
    "pixels = table['FLUX']\n",
    "maskmap = hdu[2].data\n",
    "maskheader = hdu[2].header\n",
    "\n",
    "ra = hdu[0].header[\"RA_OBJ\"]\n",
    "dec = hdu[0].header[\"DEC_OBJ\"]\n",
    "hdu.close()"
   ]
  },
  {
   "cell_type": "code",
   "execution_count": 8,
   "metadata": {
    "collapsed": false
   },
   "outputs": [
    {
     "name": "stdout",
     "output_type": "stream",
     "text": [
      "Filename: tpf/ktwo202521690-c02_lpd-targ.fits\n",
      "No.    Name         Type      Cards   Dimensions   Format\n",
      "0    PRIMARY     PrimaryHDU      54   ()              \n",
      "1    TARGETTABLES  BinTableHDU    274   3856R x 12C   [D, E, J, 210J, 210E, 210E, 210E, 210E, 210E, J, E, E]   \n",
      "2    APERTURE    ImageHDU        48   (14, 15)     int32   \n"
     ]
    }
   ],
   "source": [
    "hdu.info()"
   ]
  },
  {
   "cell_type": "code",
   "execution_count": 34,
   "metadata": {
    "collapsed": false
   },
   "outputs": [
    {
     "data": {
      "image/png": "[encoded data removed]",
      "text/plain": [
       "<matplotlib.figure.Figure at 0x7f5a7c0f7890>"
      ]
     },
     "metadata": {},
     "output_type": "display_data"
    }
   ],
   "source": [
    "m = plt.matshow(maskmap.T, alpha=1, cmap=\"cubehelix\", origin=(0,0))"
   ]
  },
  {
   "cell_type": "code",
   "execution_count": 11,
   "metadata": {
    "collapsed": false
   },
   "outputs": [
    {
     "name": "stdout",
     "output_type": "stream",
     "text": [
      "(15, 14)\n",
      "15\n"
     ]
    }
   ],
   "source": [
    "num_steps = np.shape(pixels)[0]\n",
    "print maskmap.shape\n",
    "print maskmap.shape[0]"
   ]
  },
  {
   "cell_type": "code",
   "execution_count": 12,
   "metadata": {
    "collapsed": true
   },
   "outputs": [],
   "source": [
    "def pix_coords():\n",
    "    cards2 = hdu[2].header.cards\n",
    "    crpix1 = cards2['CRPIX1'].value\n",
    "    crpix2 = cards2['CRPIX2'].value\n",
    "    crval1 = cards2['CRVAL1'].value\n",
    "    crval2 = cards2['CRVAL2'].value\n",
    "    cdelt1 = cards2['CDELT1'].value\n",
    "    cdelt2 = cards2['CDELT2'].value\n",
    "    print crpix1, crpix2, crval1, crval2, cdelt1, cdelt2\n",
    "    \n",
    "    lenRA, lenDec = maskmap.shape\n",
    "    aperRA = np.zeros(lenRA,\"float64\")\n",
    "    aperDec = np.zeros(lenDec,\"float64\")\n",
    "\n",
    "    for i in range(lenDec):\n",
    "        aperDec[i] = crval2 + (i + 1 - crpix2) * cdelt2\n",
    "        \n",
    "    for j in range(lenRA):\n",
    "        aperRA[j] = crval1 + (j + 1 - crpix1) * cdelt1\n",
    "            \n",
    "    return aperRA, aperDec"
   ]
  },
  {
   "cell_type": "code",
   "execution_count": 13,
   "metadata": {
    "collapsed": false
   },
   "outputs": [
    {
     "name": "stdout",
     "output_type": "stream",
     "text": [
      "8.47907205964 8.15019240553 243.326865 -29.374343 -0.00110660468398 0.00110660468398\n"
     ]
    }
   ],
   "source": [
    "apRA, apDec = pix_coords()"
   ]
  },
  {
   "cell_type": "code",
   "execution_count": 14,
   "metadata": {
    "collapsed": false
   },
   "outputs": [
    {
     "name": "stdout",
     "output_type": "stream",
     "text": [
      "[ 243.33514138  243.33403477  243.33292817  243.33182156  243.33071496\n",
      "  243.32960835  243.32850175  243.32739514  243.32628854  243.32518193\n",
      "  243.32407533  243.32296872  243.32186212  243.32075552  243.31964891]\n",
      "[-29.38225544 -29.38114883 -29.38004223 -29.37893562 -29.37782902\n",
      " -29.37672241 -29.37561581 -29.3745092  -29.3734026  -29.37229599\n",
      " -29.37118939 -29.37008278 -29.36897618 -29.36786958]\n",
      "243.326865 -29.374343\n",
      "7.47907205962 7.15019240553\n"
     ]
    }
   ],
   "source": [
    "print apRA\n",
    "print apDec\n",
    "print ra, dec\n",
    "pix_RA = np.interp(ra,apRA[::-1],np.arange(len(apRA))[::-1])\n",
    "pix_Dec = np.interp(dec,apDec,np.arange(len(apDec)))\n",
    "print pix_RA, pix_Dec"
   ]
  },
  {
   "cell_type": "code",
   "execution_count": 16,
   "metadata": {
    "collapsed": false
   },
   "outputs": [
    {
     "data": {
      "text/plain": [
       "<matplotlib.text.Text at 0x7f5a7c1fc350>"
      ]
     },
     "execution_count": 16,
     "metadata": {},
     "output_type": "execute_result"
    },
    {
     "data": {
      "image/png": "[encoded data removed]",
      "text/plain": [
       "<matplotlib.figure.Figure at 0x7f5a7afcd210>"
      ]
     },
     "metadata": {},
     "output_type": "display_data"
    }
   ],
   "source": [
    "m = plt.matshow(pixels[100].T, alpha=1, cmap=\"cubehelix\", origin=(0,0),norm=colors.LogNorm())\n",
    "plt.plot(pix_RA, pix_Dec, \"ko\", mec=\"w\")\n",
    "plt.xlim(-0.5,maskmap.shape[0]-0.5)\n",
    "plt.ylim(-0.5,maskmap.shape[1]-0.5)\n",
    "plt.ylabel(\"Axis 2 (Dec pixels)\")\n",
    "plt.xlabel(\"Axis 1 (RA pixels)\")"
   ]
  },
  {
   "cell_type": "code",
   "execution_count": 17,
   "metadata": {
    "collapsed": false
   },
   "outputs": [],
   "source": [
    "# Below is adapted from code DFM gave me in demo.ipynb\n",
    "# These are some useful things to pre-compute and use later.\n",
    "_x, _y = np.meshgrid(range(-1, 2), range(-1, 2), indexing=\"ij\")\n",
    "_x, _y = _x.flatten(), _y.flatten()\n",
    "_AT = np.vstack((_x*_x, _y*_y, _x*_y, _x, _y, np.ones_like(_x)))\n",
    "_ATA = np.dot(_AT, _AT.T)\n",
    "factor = cho_factor(_ATA, overwrite_a=True)\n",
    "\n",
    "# This function finds the centroid and second derivatives in a 3x3 patch.\n",
    "def fit_3x3(img):\n",
    "    a, b, c, d, e, f = cho_solve(factor, np.dot(_AT, img.flatten()))\n",
    "    m = 1. / (4 * a * b - c*c)\n",
    "    x = (c * e - 2 * b * d) * m\n",
    "    y = (c * d - 2 * a * e) * m\n",
    "    dx2, dy2, dxdy = 2 * a, 2 * b, c\n",
    "    return [x, y, dx2, dy2, dxdy]\n",
    "\n",
    "# This function finds the centroid in an image.\n",
    "# You can provide an estimate of the centroid using WCS.\n",
    "def find_centroid(img, init=None):\n",
    "    if init is None:\n",
    "        xi, yi = np.unravel_index(np.argmax(img), img.shape)\n",
    "    else:\n",
    "        xi, yi = map(int, map(np.round, init))\n",
    "        ox, oy = np.unravel_index(np.argmax(img[xi-1:xi+2, yi-1:yi+2]), (3, 3))\n",
    "        xi += ox - 1\n",
    "        yi += oy - 1\n",
    "    assert (xi >= 1 and xi < img.shape[0] - 1), \"effed, x\"\n",
    "    assert (yi >= 1 and yi < img.shape[1] - 1), \"effed, y\"\n",
    "    pos = fit_3x3(img[xi-1:xi+2, yi-1:yi+2])\n",
    "    pos[0] += xi\n",
    "    pos[1] += yi\n",
    "    return pos\n",
    "\n",
    "def track_centroid(pix_filename):\n",
    "    # use astropy to get the WCS and estimate the location of the star.\n",
    "    with fits.open(pixel_filename) as hdus:\n",
    "        hdr = hdus[2].header\n",
    "        wcs = WCS(hdr)\n",
    "        # The order is the opposite of what I normally use...\n",
    "        init = wcs.wcs_world2pix(hdr[\"RA_OBJ\"], hdr[\"DEC_OBJ\"], 0.0)[::-1]\n",
    "\n",
    "    # Use the input position to track the centroid across every frame\n",
    "    coords = np.nan + np.zeros((len(tpf), 5))\n",
    "    for i, img in enumerate(tpf[\"FLUX\"]):\n",
    "        msk = np.isfinite(img)\n",
    "        if np.any(msk) and np.any(img[msk] > 0.0):\n",
    "            coords[i] = find_centroid(img, init=init)\n",
    "            \n",
    "    return coords"
   ]
  },
  {
   "cell_type": "code",
   "execution_count": 18,
   "metadata": {
    "collapsed": false
   },
   "outputs": [],
   "source": [
    "wcs = WCS(hdu[2].header)\n",
    "init = wcs.wcs_world2pix(ra, dec, 0.0)[::-1]\n",
    "coords = find_centroid(pixels[100], init=init)"
   ]
  },
  {
   "cell_type": "code",
   "execution_count": 19,
   "metadata": {
    "collapsed": false
   },
   "outputs": [
    {
     "data": {
      "text/plain": [
       "<matplotlib.text.Text at 0x7f5a7c2dd110>"
      ]
     },
     "execution_count": 19,
     "metadata": {},
     "output_type": "execute_result"
    },
    {
     "data": {
      "image/png": "[encoded data removed]",
      "text/plain": [
       "<matplotlib.figure.Figure at 0x7f5a7c1ce410>"
      ]
     },
     "metadata": {},
     "output_type": "display_data"
    }
   ],
   "source": [
    "m = plt.matshow(pixels[100].T, alpha=1, cmap=\"cubehelix\", origin=(0,0),norm=colors.LogNorm())\n",
    "plt.plot(pix_RA, pix_Dec, \"ko\", mec=\"w\", ms=10)\n",
    "plt.plot(coords[0],coords[1], \"r*\", ms=12)\n",
    "plt.xlim(-0.5,maskmap.shape[0]-0.5)\n",
    "plt.ylim(-0.5,maskmap.shape[1]-0.5)\n",
    "plt.ylabel(\"Axis 2 (Dec pixels)\")\n",
    "plt.xlabel(\"Axis 1 (RA pixels)\")"
   ]
  },
  {
   "cell_type": "code",
   "execution_count": 20,
   "metadata": {
    "collapsed": true
   },
   "outputs": [],
   "source": [
    "import photutils"
   ]
  },
  {
   "cell_type": "code",
   "execution_count": 21,
   "metadata": {
    "collapsed": false
   },
   "outputs": [
    {
     "name": "stdout",
     "output_type": "stream",
     "text": [
      "7183.88973844\n"
     ]
    },
    {
     "data": {
      "text/html": [
       "&lt;Table masked=False length=1&gt;\n",
       "<table id=\"table140026551254608\">\n",
       "<thead><tr><th>aperture_sum</th><th>xcenter [1]</th><th>ycenter [1]</th></tr></thead>\n",
       "<thead><tr><th></th><th></th><th></th></tr></thead>\n",
       "<thead><tr><th>float64</th><th>float64</th><th>float64</th></tr></thead>\n",
       "<tr><td>7183.88973844</td><td>7.0</td><td>7.0</td></tr>\n",
       "</table>"
      ],
      "text/plain": [
       "<Table masked=False length=1>\n",
       " aperture_sum xcenter [1] ycenter [1]\n",
       "                                     \n",
       "   float64      float64     float64  \n",
       "------------- ----------- -----------\n",
       "7183.88973844         7.0         7.0"
      ]
     },
     "execution_count": 21,
     "metadata": {},
     "output_type": "execute_result"
    }
   ],
   "source": [
    "ap_center = [7,7]\n",
    "print pixels[100][7,7] * (np.pi * 0.5 **2)\n",
    "apertures = photutils.CircularAperture(ap_center, r=0.5)\n",
    "photutils.aperture_photometry(pixels[100],apertures)"
   ]
  },
  {
   "cell_type": "code",
   "execution_count": 22,
   "metadata": {
    "collapsed": true
   },
   "outputs": [],
   "source": [
    "import astropy\n",
    "astropy.stats.mad_std?"
   ]
  },
  {
   "cell_type": "code",
   "execution_count": 43,
   "metadata": {
    "collapsed": true
   },
   "outputs": [],
   "source": [
    "def calc_bkgd(image, mask, ap_center, bkgd_radius, \n",
    "              iterations=3, clip_at = 3):\n",
    "    image_shape = np.shape(image)\n",
    "    center_dist = np.zeros_like(image)\n",
    "    for i in range(image_shape[0]):\n",
    "        for j in range(image_shape[1]):\n",
    "            sq_sub = [(ap_center[0] - i)**2, \n",
    "                      (ap_center[1] - j)**2]\n",
    "            center_dist[i,j] = np.sqrt(np.sum(sq_sub))\n",
    "            \n",
    "    bkgd_mask = np.zeros_like(image)\n",
    "    bkgd_mask[center_dist>bkgd_radius] = 1\n",
    "    bkgd_mask[mask==0] = 0\n",
    "    \n",
    "    background = image[bkgd_mask==1]\n",
    "    bkgd_points = background.flatten()\n",
    "    for i in range(iterations):\n",
    "#        logging.debug(\"%d %f\",i,len(bkgd_points))\n",
    "        med, stdev = np.median(bkgd_points), np.std(bkgd_points)\n",
    "        bad_points = np.where(abs(bkgd_points - med) >= (clip_at * stdev))[0]\n",
    "        bkgd_points = np.delete(bkgd_points, bad_points)\n",
    "        \n",
    "    bkgd_flux = np.median(bkgd_points)\n",
    "    return bkgd_flux"
   ]
  },
  {
   "cell_type": "code",
   "execution_count": 44,
   "metadata": {
    "collapsed": false
   },
   "outputs": [
    {
     "data": {
      "text/plain": [
       "353.55209"
      ]
     },
     "execution_count": 44,
     "metadata": {},
     "output_type": "execute_result"
    }
   ],
   "source": [
    "calc_bkgd(pixels[100], maskmap, ap_center, 3)"
   ]
  },
  {
   "cell_type": "code",
   "execution_count": 48,
   "metadata": {
    "collapsed": true
   },
   "outputs": [],
   "source": [
    "def get_flux(image, ap_center, ap_radii):\n",
    "    ap_fluxes = np.zeros(len(ap_radii))\n",
    "    bkgd_fluxes = np.zeros(len(ap_radii))\n",
    "    for i, rad in enumerate(ap_radii):\n",
    "        bkgd_radius = np.ceil(rad + np.sqrt(2))\n",
    "        bkgd_fluxes[i] = calc_bkgd(image, maskmap, ap_center, bkgd_radius)\n",
    "        bkgd_subtracted = image - bkgd_fluxes[i]\n",
    "        \n",
    "        aperture = photutils.CircularAperture(ap_center, r=rad)\n",
    "        phot_table = photutils.aperture_photometry(bkgd_subtracted,aperture)\n",
    "        ap_fluxes[i] = phot_table[\"aperture_sum\"][0]\n",
    "    return ap_fluxes, bkgd_fluxes"
   ]
  },
  {
   "cell_type": "code",
   "execution_count": 49,
   "metadata": {
    "collapsed": false
   },
   "outputs": [
    {
     "data": {
      "text/plain": [
       "(array([  22478.846995  ,   55621.47572944,   84104.95552424,\n",
       "         122733.88723006,  157708.99771712]),\n",
       " array([ 353.55209351,  343.49438477,  338.60574341,  338.77346802,\n",
       "         338.68960571]))"
      ]
     },
     "execution_count": 49,
     "metadata": {},
     "output_type": "execute_result"
    }
   ],
   "source": [
    "get_flux(pixels[100], ap_center, np.arange(1,6,1))"
   ]
  },
  {
   "cell_type": "code",
   "execution_count": 57,
   "metadata": {
    "collapsed": true
   },
   "outputs": [],
   "source": [
    "def make_lc(image_list, times, start_center, ap_radii,\n",
    "            output_filename):\n",
    "    \n",
    "    f = open(output_filename,\"w\")\n",
    "    f.write(\"i,t,x,y\")\n",
    "    for r in ap_radii:\n",
    "        f.write(\",flux_{0:.1f},bkgd_{0:.1f}\".format(r))\n",
    "        \n",
    "    for i, time in enumerate(times):\n",
    "        f.write(\"\\n{0},{1:.6f}\".format(i,time))\n",
    "        \n",
    "        coords = find_centroid(image_list[i], init=start_center)\n",
    "        f.write(\",{0:.6f},{1:.6f}\".format(coords[0],coords[1]))\n",
    "        \n",
    "        ap_fluxes, bkgd_fluxes = get_flux(image_list[i], \n",
    "                                          coords[:2], ap_radii)\n",
    "        \n",
    "        for i, r in enumerate(ap_radii):\n",
    "            f.write(\",{0:.6f},{1:.6f}\".format(ap_fluxes[i],\n",
    "                                              bkgd_fluxes[i]))\n",
    "            \n",
    "    f.close()"
   ]
  },
  {
   "cell_type": "code",
   "execution_count": 58,
   "metadata": {
    "collapsed": false
   },
   "outputs": [
    {
     "name": "stderr",
     "output_type": "stream",
     "text": [
      "WARNING: The aperture at position [[ 3.00192072 -3.95354874]] does not have any overlap with the data [photutils.aperture_funcs]\n",
      "WARNING:astropy:The aperture at position [[ 3.00192072 -3.95354874]] does not have any overlap with the data\n",
      "WARNING: The aperture at position [[ 2.46023036 -5.9264531 ]] does not have any overlap with the data [photutils.aperture_funcs]\n",
      "WARNING:astropy:The aperture at position [[ 2.46023036 -5.9264531 ]] does not have any overlap with the data\n",
      "WARNING: The aperture at position [[  752.12268066  2556.72866047]] does not have any overlap with the data [photutils.aperture_funcs]\n",
      "WARNING:astropy:The aperture at position [[  752.12268066  2556.72866047]] does not have any overlap with the data\n",
      "WARNING: The aperture at position [[ -8.90529745 -45.63656328]] does not have any overlap with the data [photutils.aperture_funcs]\n",
      "WARNING:astropy:The aperture at position [[ -8.90529745 -45.63656328]] does not have any overlap with the data\n",
      "WARNING: The aperture at position [[ 11.93711954  26.66497731]] does not have any overlap with the data [photutils.aperture_funcs]\n",
      "WARNING:astropy:The aperture at position [[ 11.93711954  26.66497731]] does not have any overlap with the data\n",
      "/home/stephanie/anaconda/lib/python2.7/site-packages/IPython/kernel/__main__.py:12: RuntimeWarning: divide by zero encountered in double_scalars\n",
      "/home/stephanie/anaconda/lib/python2.7/site-packages/IPython/kernel/__main__.py:13: RuntimeWarning: invalid value encountered in double_scalars\n",
      "/home/stephanie/anaconda/lib/python2.7/site-packages/IPython/kernel/__main__.py:14: RuntimeWarning: invalid value encountered in double_scalars\n",
      "/home/stephanie/anaconda/lib/python2.7/site-packages/IPython/kernel/__main__.py:12: RuntimeWarning: invalid value encountered in greater\n",
      "WARNING: The aperture at position [[ nan  nan]] does not have any overlap with the data [photutils.aperture_funcs]\n",
      "WARNING:astropy:The aperture at position [[ nan  nan]] does not have any overlap with the data\n",
      "WARNING: The aperture at position [[-29.74724023   0.68032827]] does not have any overlap with the data [photutils.aperture_funcs]\n",
      "WARNING:astropy:The aperture at position [[-29.74724023   0.68032827]] does not have any overlap with the data\n",
      "WARNING: The aperture at position [[-14.46157137  15.02411575]] does not have any overlap with the data [photutils.aperture_funcs]\n",
      "WARNING:astropy:The aperture at position [[-14.46157137  15.02411575]] does not have any overlap with the data\n",
      "WARNING: The aperture at position [[ 35.34316813  -5.55274394]] does not have any overlap with the data [photutils.aperture_funcs]\n",
      "WARNING:astropy:The aperture at position [[ 35.34316813  -5.55274394]] does not have any overlap with the data\n"
     ]
    }
   ],
   "source": [
    "wcs = WCS(maskheader)\n",
    "init = wcs.wcs_world2pix(ra, dec, 0.0)[::-1]\n",
    "make_lc(pixels, times, init, np.array([2,3,5]),\n",
    "       \"test_lc.csv\")"
   ]
  },
  {
   "cell_type": "code",
   "execution_count": 59,
   "metadata": {
    "collapsed": false
   },
   "outputs": [],
   "source": [
    "import astropy.io.ascii as at\n",
    "data = at.read(\"test_lc.csv\")"
   ]
  },
  {
   "cell_type": "code",
   "execution_count": 65,
   "metadata": {
    "collapsed": false
   },
   "outputs": [
    {
     "data": {
      "text/plain": [
       "[<matplotlib.lines.Line2D at 0x7f5a77419950>]"
      ]
     },
     "execution_count": 65,
     "metadata": {},
     "output_type": "execute_result"
    },
    {
     "data": {
      "image/png": "[encoded data removed]",
      "text/plain": [
       "<matplotlib.figure.Figure at 0x7f5a7af585d0>"
      ]
     },
     "metadata": {},
     "output_type": "display_data"
    }
   ],
   "source": [
    "plt.plot(data[\"t\"],data[\"flux_3.0\"],\"k.\")\n",
    "plt.plot(data[\"t\"],data[\"flux_5.0\"],\"r.\")"
   ]
  },
  {
   "cell_type": "code",
   "execution_count": 102,
   "metadata": {
    "collapsed": false
   },
   "outputs": [
    {
     "name": "stdout",
     "output_type": "stream",
     "text": [
      " id   xcentroid     ycentroid   ...      peak          flux          mag      \n",
      "--- ------------- ------------- ... ------------- ------------- --------------\n",
      "  1 7.35172125082 7.23239132016 ...     9146.8125 8.94358384719 -2.37877895727\n",
      "  2  3.9019818012 9.19275561394 ... 15866.9482422 12.7014641998 -2.75963447113\n",
      "  3 12.3001819225 12.9588449298 ... 4042.70458984 3.82999272956 -1.45799487388\n",
      " id   xcentroid     ycentroid   ...      peak          flux          mag      \n",
      "--- ------------- ------------- ... ------------- ------------- --------------\n",
      "  1  5.2143501865 5.73619170668 ... 14023.6767578 11.0162702786 -2.60508645643\n",
      "  2 10.4332542303 11.6044190292 ...   5033.328125 3.43290322674 -1.33915390218\n"
     ]
    }
   ],
   "source": [
    "sources100 = photutils.daofind(pixels[100], fwhm=2.5, threshold = 1e3)\n",
    "print sources100\n",
    "sources0 = photutils.daofind(pixels[0], fwhm=2.5, threshold = 1e3)\n",
    "print sources0"
   ]
  },
  {
   "cell_type": "code",
   "execution_count": 103,
   "metadata": {
    "collapsed": false
   },
   "outputs": [
    {
     "data": {
      "image/png": "[encoded data removed]",
      "text/plain": [
       "<matplotlib.figure.Figure at 0x7f5a7772b210>"
      ]
     },
     "metadata": {},
     "output_type": "display_data"
    }
   ],
   "source": [
    "m = plt.matshow(pixels[100], alpha=1, cmap=\"cubehelix\", origin=\"lower\",norm=colors.LogNorm())\n",
    "plt.plot(pix_RA, pix_Dec, \"ko\", mec=\"w\", ms=10)\n",
    "plt.plot(coords[0],coords[1], \"r*\", ms=12)\n",
    "plt.xlim(-0.5,maskmap.shape[1]-0.5)\n",
    "plt.ylim(-0.5,maskmap.shape[0]-0.5)\n",
    "plt.ylabel(\"Axis 2 (Dec pixels)\")\n",
    "plt.xlabel(\"Axis 1 (RA pixels)\")\n",
    "for source in sources100:\n",
    "    plt.plot(source[\"xcentroid\"], source[\"ycentroid\"], \"gs\")"
   ]
  },
  {
   "cell_type": "code",
   "execution_count": 73,
   "metadata": {
    "collapsed": false
   },
   "outputs": [
    {
     "data": {
      "text/plain": [
       "(243.326865, -29.374343)"
      ]
     },
     "execution_count": 73,
     "metadata": {},
     "output_type": "execute_result"
    }
   ],
   "source": [
    "ra, dec"
   ]
  },
  {
   "cell_type": "code",
   "execution_count": 91,
   "metadata": {
    "collapsed": false
   },
   "outputs": [
    {
     "data": {
      "image/png": "[encoded data removed]",
      "text/plain": [
       "<matplotlib.figure.Figure at 0x7f5a7531d350>"
      ]
     },
     "metadata": {},
     "output_type": "display_data"
    }
   ],
   "source": [
    "m = plt.matshow(pixels[100], origin=\"lower\", alpha=1, cmap=\"cubehelix\", norm=colors.LogNorm())"
   ]
  },
  {
   "cell_type": "code",
   "execution_count": 89,
   "metadata": {
    "collapsed": false
   },
   "outputs": [],
   "source": [
    "plt.imshow?"
   ]
  },
  {
   "cell_type": "code",
   "execution_count": 108,
   "metadata": {
    "collapsed": false
   },
   "outputs": [
    {
     "data": {
      "text/plain": [
       "(3856, 15, 14)"
      ]
     },
     "execution_count": 108,
     "metadata": {},
     "output_type": "execute_result"
    }
   ],
   "source": [
    "np.shape(pixels)"
   ]
  },
  {
   "cell_type": "code",
   "execution_count": 109,
   "metadata": {
    "collapsed": false
   },
   "outputs": [
    {
     "data": {
      "text/plain": [
       "(15, 14)"
      ]
     },
     "execution_count": 109,
     "metadata": {},
     "output_type": "execute_result"
    }
   ],
   "source": [
    "coadd = np.sum(pixels,axis=0)\n",
    "np.shape(coadd)"
   ]
  },
  {
   "cell_type": "code",
   "execution_count": 111,
   "metadata": {
    "collapsed": false
   },
   "outputs": [
    {
     "name": "stderr",
     "output_type": "stream",
     "text": [
      "/home/stephanie/anaconda/lib/python2.7/site-packages/photutils/detection/findstars.py:161: RuntimeWarning: invalid value encountered in less\n",
      "  (tbl['roundness2'] < roundhi))\n"
     ]
    }
   ],
   "source": [
    "sources = photutils.daofind(coadd, fwhm=2.5, threshold = 3e4)"
   ]
  },
  {
   "cell_type": "code",
   "execution_count": 112,
   "metadata": {
    "collapsed": false
   },
   "outputs": [
    {
     "data": {
      "image/png": "[encoded data removed]",
      "text/plain": [
       "<matplotlib.figure.Figure at 0x7f5a77574690>"
      ]
     },
     "metadata": {},
     "output_type": "display_data"
    }
   ],
   "source": [
    "m = plt.matshow(coadd, alpha=1, cmap=\"cubehelix\", origin=\"lower\",norm=colors.LogNorm())\n",
    "plt.plot(pix_RA, pix_Dec, \"ko\", mec=\"w\", ms=10)\n",
    "plt.plot(coords[0],coords[1], \"r*\", ms=12)\n",
    "plt.xlim(-0.5,maskmap.shape[1]-0.5)\n",
    "plt.ylim(-0.5,maskmap.shape[0]-0.5)\n",
    "plt.ylabel(\"Axis 2 (Dec pixels)\")\n",
    "plt.xlabel(\"Axis 1 (RA pixels)\")\n",
    "for source in sources100:\n",
    "    plt.plot(source[\"xcentroid\"], source[\"ycentroid\"], \"gs\")"
   ]
  },
  {
   "cell_type": "code",
   "execution_count": null,
   "metadata": {
    "collapsed": true
   },
   "outputs": [],
   "source": []
  }
 ],
 "metadata": {
  "kernelspec": {
   "display_name": "Python 2",
   "language": "python",
   "name": "python2"
  },
  "language_info": {
   "codemirror_mode": {
    "name": "ipython",
    "version": 2
   },
   "file_extension": ".py",
   "mimetype": "text/x-python",
   "name": "python",
   "nbconvert_exporter": "python",
   "pygments_lexer": "ipython2",
   "version": "2.7.9"
  }
 },
 "nbformat": 4,
 "nbformat_minor": 0
}
